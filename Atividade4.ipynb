{
  "nbformat": 4,
  "nbformat_minor": 0,
  "metadata": {
    "colab": {
      "name": "Atividade4.ipynb",
      "provenance": [],
      "authorship_tag": "ABX9TyMFwIznC9XoMdcDan9iE7iD",
      "include_colab_link": true
    },
    "kernelspec": {
      "name": "python3",
      "display_name": "Python 3"
    },
    "language_info": {
      "name": "python"
    }
  },
  "cells": [
    {
      "cell_type": "markdown",
      "metadata": {
        "id": "view-in-github",
        "colab_type": "text"
      },
      "source": [
        "<a href=\"https://colab.research.google.com/github/arturgmrs/cenep/blob/main/Atividade4.ipynb\" target=\"_parent\"><img src=\"https://colab.research.google.com/assets/colab-badge.svg\" alt=\"Open In Colab\"/></a>"
      ]
    },
    {
      "cell_type": "markdown",
      "metadata": {
        "id": "8X_fo-gaK1oL"
      },
      "source": [
        "# Disciplina: Introdução a Programação\n",
        "# Professor: Genivan Silva\n",
        "*   Atividade 04 – Controle de fluxo e repetidores\n",
        "*  Grupo:\n",
        "1.   Carlos Artur Santos Guimarães\n",
        "2.   João Neto Guimarães\n",
        "\n"
      ]
    },
    {
      "cell_type": "markdown",
      "metadata": {
        "id": "TZZc2Gk8K_vM"
      },
      "source": [
        "1. Elabore um programa para informar ao usuário se ele é ou não obrigado a votar. O voto é obrigatório entre 18 e 70 anos."
      ]
    },
    {
      "cell_type": "code",
      "metadata": {
        "colab": {
          "base_uri": "https://localhost:8080/"
        },
        "id": "RkbqsOJGK3vt",
        "outputId": "c7b96e34-189c-467b-cf29-0f25aa5f9789"
      },
      "source": [
        "age = int(input(\"Quantos anos você tem?\"))\n",
        "\n",
        "if age >= 18 and age <= 70:\n",
        "\tprint(\"Você é obrigado a votar.\")\n",
        "else:\n",
        "\tprint(\"Você não é obrigado a votar.\")"
      ],
      "execution_count": 4,
      "outputs": [
        {
          "output_type": "stream",
          "text": [
            "Quantos anos você tem?20\n",
            "Você eh obrigado a votar.\n"
          ],
          "name": "stdout"
        }
      ]
    },
    {
      "cell_type": "code",
      "metadata": {
        "colab": {
          "base_uri": "https://localhost:8080/"
        },
        "id": "C6NeIUfiMSLM",
        "outputId": "42cbb783-3e8f-43b8-d5e1-84fa46ee49b8"
      },
      "source": [
        "date = int(input(\"Que ano você nasceu?\"))\n",
        "date2 = 2021 - date\n",
        "if date2 >= 18 and age <= 70:\n",
        "\tprint(\"Você é obrigado a votar.\")\n",
        "else:\n",
        "\tprint(\"Você não é obrigado a votar.\")"
      ],
      "execution_count": 15,
      "outputs": [
        {
          "output_type": "stream",
          "text": [
            "Que ano você nasceu?2004\n",
            "Você não é obrigado a votar.\n"
          ],
          "name": "stdout"
        }
      ]
    },
    {
      "cell_type": "markdown",
      "metadata": {
        "id": "nHEhpb-ULFRz"
      },
      "source": [
        "2. Faça um programa que simule um jogo de adivinhação. Você mesmo inicializa o\n",
        "número a ser adivinhado com um valor entre 1 e 10. Na sequência o programa\n",
        "pergunta qual o palpite do jogador. O programa deve apresentar uma das três\n",
        "respostas ao jogador:\n",
        "---\n",
        "*   a. Você acertou! – se o palpite for igual ao número inicializado\n",
        "*   b. Você errou por pouco – se a diferença entre o valor do palpite e o número inicial for menor que 3.\n",
        "*   c. Você passou longe – quando a diferença entre o palpite e o número inicial for maior ou igual a 3"
      ]
    },
    {
      "cell_type": "code",
      "metadata": {
        "colab": {
          "base_uri": "https://localhost:8080/"
        },
        "id": "FE0_kTMNNeze",
        "outputId": "6f060c04-c098-46ce-fc78-f02a05e43085"
      },
      "source": [
        "import math\n",
        "number = int(input(\"Insira o número a ser advinhado:\"))\n",
        "isLosing = True\n",
        "\n",
        "while isLosing:\n",
        "\tguess = int(input(\"Insira seu palpite:\"))\n",
        "\tdiff = math.fabs(number - guess)\n",
        "\n",
        "\tif diff == 0:\n",
        "\t\tprint(\"Parabéns! Você acertou!\")\n",
        "\t\tisLosing = False\n",
        "\n",
        "\tif diff < 3 and not diff == 0:\n",
        "\t\tprint(\"Que pena, você errou por pouco =[ \")\n",
        "\n",
        "\n",
        "\tif diff >= 3:\n",
        "\t\tprint(\"Ahhh, infelizmente você errou e passou longe.\")\n"
      ],
      "execution_count": 17,
      "outputs": [
        {
          "output_type": "stream",
          "text": [
            "Insira o número a ser advinhado:10\n",
            "Insira seu palpite:11\n",
            "Que pena, você errou por pouco =[ \n",
            "Insira seu palpite:19999\n",
            "Ahhh, infelizmente você errou e passou longe\n",
            "Insira seu palpite:1\n",
            "Ahhh, infelizmente você errou e passou longe\n",
            "Insira seu palpite:9\n",
            "Que pena, você errou por pouco =[ \n",
            "Insira seu palpite:11\n",
            "Que pena, você errou por pouco =[ \n",
            "Insira seu palpite:10\n",
            "Parabééns! Você acertou!\n"
          ],
          "name": "stdout"
        }
      ]
    },
    {
      "cell_type": "markdown",
      "metadata": {
        "id": "HicazSL8LI4v"
      },
      "source": [
        "3. Elabore um programa em que o usuário informa um número e seja exibido o valor\n",
        "da soma de todos os números existentes entre 1 e o número informado.\n",
        "Ex: o usuário informou 5, o programa precisa calcular 1+2+3+4+5"
      ]
    },
    {
      "cell_type": "code",
      "metadata": {
        "colab": {
          "base_uri": "https://localhost:8080/"
        },
        "id": "2yLL3cu9LK8N",
        "outputId": "0fee436a-aefa-4db8-e95b-892142bcc15a"
      },
      "source": [
        "number = int(input(\"Insira um numero \"))\n",
        "sum = 0\n",
        "\n",
        "for i in range(number):\n",
        "\tsum = sum + (i + 1)\n",
        "\n",
        "print(f'A soma final é: {sum}')"
      ],
      "execution_count": 19,
      "outputs": [
        {
          "output_type": "stream",
          "text": [
            "Insira um numero 3\n",
            "A soma final é: 6\n"
          ],
          "name": "stdout"
        }
      ]
    },
    {
      "cell_type": "markdown",
      "metadata": {
        "id": "vQ0TyRuvLLDL"
      },
      "source": [
        "4. Faça um programa que imprima indefinidamente a frase: “A disciplina de programação é a melhor. \\o/” e só saia quando você digitar “sim”"
      ]
    },
    {
      "cell_type": "code",
      "metadata": {
        "colab": {
          "base_uri": "https://localhost:8080/"
        },
        "id": "tNSWopmNLONk",
        "outputId": "aa3f49a7-cf1a-4e1c-872e-bfe8fe054961"
      },
      "source": [
        "shouldRepeat = True\n",
        "\n",
        "while shouldRepeat:\n",
        "\tprint(\"A disciplina de programação é a melhor. \\\\o/ \\n \\n\")\n",
        "\tanswer = input(\"Digite 'sim' para parar o loop: \")\n",
        "\n",
        "\tif answer == \"sim\":\n",
        "\t\tshouldRepeat = False"
      ],
      "execution_count": 22,
      "outputs": [
        {
          "output_type": "stream",
          "text": [
            "A disciplina de programação é a melhor. \\o/ \n",
            " \n",
            "\n",
            "Digite 'sim' para parar o loop: n\n",
            "A disciplina de programação é a melhor. \\o/ \n",
            " \n",
            "\n",
            "Digite 'sim' para parar o loop: sim\n"
          ],
          "name": "stdout"
        }
      ]
    },
    {
      "cell_type": "markdown",
      "metadata": {
        "id": "mGPIMywULM02"
      },
      "source": [
        "5. Faça um programa que receba um número inteiro e imprima na tela na quantidade de vezes informada a mensagem: “Em programação, praticar nunca é demais.”"
      ]
    },
    {
      "cell_type": "code",
      "metadata": {
        "colab": {
          "base_uri": "https://localhost:8080/"
        },
        "id": "TftMbi6qOgRk",
        "outputId": "1338a334-0147-486c-988a-2554ca03422a"
      },
      "source": [
        "phrase = \"Em programação, praticar nunca é demais.\"\n",
        "\n",
        "number = int(input(\"Digite o numero de vezes para repetir a frase: \"))\n",
        "\n",
        "for i in range(number):\n",
        "\tprint(phrase)"
      ],
      "execution_count": 24,
      "outputs": [
        {
          "output_type": "stream",
          "text": [
            "Digite o numero de vezes para repetir a frase: 20\n",
            "Em programação, praticar nunca é demais.\n",
            "Em programação, praticar nunca é demais.\n",
            "Em programação, praticar nunca é demais.\n",
            "Em programação, praticar nunca é demais.\n",
            "Em programação, praticar nunca é demais.\n",
            "Em programação, praticar nunca é demais.\n",
            "Em programação, praticar nunca é demais.\n",
            "Em programação, praticar nunca é demais.\n",
            "Em programação, praticar nunca é demais.\n",
            "Em programação, praticar nunca é demais.\n",
            "Em programação, praticar nunca é demais.\n",
            "Em programação, praticar nunca é demais.\n",
            "Em programação, praticar nunca é demais.\n",
            "Em programação, praticar nunca é demais.\n",
            "Em programação, praticar nunca é demais.\n",
            "Em programação, praticar nunca é demais.\n",
            "Em programação, praticar nunca é demais.\n",
            "Em programação, praticar nunca é demais.\n",
            "Em programação, praticar nunca é demais.\n",
            "Em programação, praticar nunca é demais.\n"
          ],
          "name": "stdout"
        }
      ]
    }
  ]
}