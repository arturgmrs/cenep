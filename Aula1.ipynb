{
  "nbformat": 4,
  "nbformat_minor": 0,
  "metadata": {
    "colab": {
      "name": "Aula1.ipynb",
      "provenance": [],
      "collapsed_sections": [],
      "include_colab_link": true
    },
    "kernelspec": {
      "display_name": "Python 3",
      "language": "python",
      "name": "python3"
    }
  },
  "cells": [
    {
      "cell_type": "markdown",
      "metadata": {
        "id": "view-in-github",
        "colab_type": "text"
      },
      "source": [
        "<a href=\"https://colab.research.google.com/github/arturgmrs/cenep/blob/main/Aula1.ipynb\" target=\"_parent\"><img src=\"https://colab.research.google.com/assets/colab-badge.svg\" alt=\"Open In Colab\"/></a>"
      ]
    },
    {
      "cell_type": "markdown",
      "metadata": {
        "id": "TCltJbrPWtqT"
      },
      "source": [
        "Material Adaptado\n",
        "\n",
        "Prof.s Carlos Artur Guimarães, Isabel Nunes e  Luiz Affonso Guedes\n",
        "UFRN -  2021-1"
      ]
    },
    {
      "cell_type": "markdown",
      "metadata": {
        "id": "8aBKG2iUWtqa"
      },
      "source": [
        "# Introdução à Linguagem Python\n",
        "\n",
        "Objetivo: apresentação das funcionalidades básicas da linguagem Python\n",
        "\n",
        "\n",
        "Conteúdo:\n",
        "- Caracterização da Linguagem Python\n",
        "- Vantagens\n",
        "- Saída de dados\n",
        "- cálculos básicos\n",
        "- tipo lista\n",
        "- importação de pacotes"
      ]
    },
    {
      "cell_type": "markdown",
      "metadata": {
        "id": "ZwGg2YRmWtqc"
      },
      "source": [
        "- Python é uma linguagem de propósito geral - às vezes referida como utilitária - que é projetada para ser simples de ler e escrever. O seu objetivo é ser uma linguagem simples, porém completa.\n",
        "- Linguagem interpretada não tipada.\n",
        "- Liguagem estruturada, mas possui suporte a orientação a objetos.\n"
      ]
    },
    {
      "cell_type": "markdown",
      "metadata": {
        "id": "8yf95fqwWtqe"
      },
      "source": [
        "Uma introdução aos conceitos básicos de Python. Saiba como usar o Python de forma interativa e através de um script. Crie suas primeiras variáveis e familiarize-se com os tipos básicos de dados do Python."
      ]
    },
    {
      "cell_type": "markdown",
      "metadata": {
        "id": "bvJ3kBLoO0jt"
      },
      "source": [
        "## Entrada e Saída de Dados em Python\n",
        "\n",
        "print (......)\n",
        "\n",
        "input()\n"
      ]
    },
    {
      "cell_type": "code",
      "metadata": {
        "id": "93GQJAx1Wtqg",
        "colab": {
          "base_uri": "https://localhost:8080/"
        },
        "outputId": "ff6d6841-cef8-41e3-ab0a-dbd4fbb8017d"
      },
      "source": [
        "# Comentário em Python\n",
        "# Imprimir mensagem em Python\n",
        "print(\"Alô, mundo!\")"
      ],
      "execution_count": 2,
      "outputs": [
        {
          "output_type": "stream",
          "text": [
            "Alô, mundo!\n"
          ],
          "name": "stdout"
        }
      ]
    },
    {
      "cell_type": "code",
      "metadata": {
        "colab": {
          "base_uri": "https://localhost:8080/"
        },
        "id": "FzSwinRNRLJY",
        "outputId": "aa7274a2-1c01-4606-c434-8cff4e07f339"
      },
      "source": [
        "print(\"Bom dia\")"
      ],
      "execution_count": 3,
      "outputs": [
        {
          "output_type": "stream",
          "text": [
            "Bom dia\n"
          ],
          "name": "stdout"
        }
      ]
    },
    {
      "cell_type": "code",
      "metadata": {
        "colab": {
          "base_uri": "https://localhost:8080/"
        },
        "id": "eO6JDa4aRO-o",
        "outputId": "cdf178c4-b5d5-425b-def7-52d5a72651a6"
      },
      "source": [
        "print(\"Turma de Informática 3ª ano Manhã do CENEP\")"
      ],
      "execution_count": 4,
      "outputs": [
        {
          "output_type": "stream",
          "text": [
            "Turma de Informática 3ª ano Manhã do CENEP\n"
          ],
          "name": "stdout"
        }
      ]
    },
    {
      "cell_type": "code",
      "metadata": {
        "id": "eZB15oHyRVK8"
      },
      "source": [
        "print(\"Bom dia\") "
      ],
      "execution_count": null,
      "outputs": []
    },
    {
      "cell_type": "code",
      "metadata": {
        "id": "kugXUPx-PYP-",
        "colab": {
          "base_uri": "https://localhost:8080/"
        },
        "outputId": "4d346505-cb6d-49aa-f5f0-286acd9fb69b"
      },
      "source": [
        "print(\"Qual é o seu nome? \")\n",
        "nome = input()\n",
        "print(\"Olá \" + nome + \", tudo bem?\")"
      ],
      "execution_count": 10,
      "outputs": [
        {
          "output_type": "stream",
          "text": [
            "Qual é o seu nome? \n",
            "Carlos Artur Guimarães\n",
            "Olá Carlos Artur Guimarães, tudo bem?\n"
          ],
          "name": "stdout"
        }
      ]
    },
    {
      "cell_type": "code",
      "metadata": {
        "colab": {
          "base_uri": "https://localhost:8080/"
        },
        "id": "-gWghL3vRvgd",
        "outputId": "676b384f-bee0-4a83-ab97-375d326d84b3"
      },
      "source": [
        "print(\"Digite o nome do time e cidade que Carlos Gosta:\")\n",
        "time = input()\n",
        "cidade = input()\n",
        "print(\"Carlos gosta do time: \" + time + \" e da cidade \" + cidade )"
      ],
      "execution_count": 37,
      "outputs": [
        {
          "output_type": "stream",
          "text": [
            "Digite o nome do time e cidade que Carlos Gosta:\n",
            "flamengo\n",
            "Natal\n",
            "Carlos gosta do time: flamengo e da cidade Natal\n"
          ],
          "name": "stdout"
        }
      ]
    },
    {
      "cell_type": "code",
      "metadata": {
        "id": "qYQShSqvP6uW"
      },
      "source": [
        "print(\"Qual sua cor predileta? \")\n",
        "nome = input()\n",
        "print(\"Sua cor predileta é: \" + nome)"
      ],
      "execution_count": null,
      "outputs": []
    },
    {
      "cell_type": "markdown",
      "metadata": {
        "id": "xNas9M98P0AK"
      },
      "source": [
        "### Criei um programa que:\n",
        "- pegunte o nome da pessoa, profissão\n",
        "\n",
        "- responda com uma mensagem positiva.\n",
        "\n",
        "Exemplo: João, a profissão de Professor é muito importante"
      ]
    },
    {
      "cell_type": "code",
      "metadata": {
        "id": "GFpO_KPVQiBa"
      },
      "source": [
        "# Escreva o codigo aqui:\n",
        "\n",
        "\n",
        "\n",
        "\n"
      ],
      "execution_count": null,
      "outputs": []
    },
    {
      "cell_type": "markdown",
      "metadata": {
        "id": "DzNprIBE61XA"
      },
      "source": [
        "### Usando Python com uma calculadora\n",
        "- basta escrever as operações."
      ]
    },
    {
      "cell_type": "code",
      "metadata": {
        "id": "XzbL-SxpWtqw"
      },
      "source": [
        "a = 2\n",
        "a"
      ],
      "execution_count": null,
      "outputs": []
    },
    {
      "cell_type": "code",
      "metadata": {
        "id": "WaR81ydLWtq8"
      },
      "source": [
        "a = 2/3\n",
        "a"
      ],
      "execution_count": null,
      "outputs": []
    },
    {
      "cell_type": "code",
      "metadata": {
        "id": "Ejy6y0OF7FYh"
      },
      "source": [
        "print(5 / 8)\n",
        "print(3 * 5)\n",
        "print(7 + 10)\n",
        "5 -2"
      ],
      "execution_count": null,
      "outputs": []
    },
    {
      "cell_type": "markdown",
      "metadata": {
        "id": "vARjMusYWtrC"
      },
      "source": [
        "## Operadores Lógicos:\n",
        "    - AND --> &  and\n",
        "    - OR --> | or\n",
        "    - not"
      ]
    },
    {
      "cell_type": "code",
      "metadata": {
        "id": "z9D_eKS1WtrE"
      },
      "source": [
        "# Exemplo de uso de operadores lógicos\n",
        "\n",
        "a = True\n",
        "b = False\n",
        "print(a and b)\n",
        "print (a & b)\n",
        "print (a or b)\n",
        "print (a | b)\n",
        "print(not a)"
      ],
      "execution_count": null,
      "outputs": []
    },
    {
      "cell_type": "code",
      "metadata": {
        "id": "TIvAFDAzWtrM"
      },
      "source": [
        "# Exemplo de uso do print - outra maneira\n",
        "print (\"a = %d b = %d\" % (10 ,20))\n",
        "print(\"alô, mundo\", \"Estou estudando Python\", \"tenho\", 24, \"anos\")"
      ],
      "execution_count": null,
      "outputs": []
    },
    {
      "cell_type": "markdown",
      "metadata": {
        "id": "lg0_6RP0WtrU"
      },
      "source": [
        "O Python é perfeitamente adequado para fazer cálculos básicos. Além da adição, subtração, multiplicação e divisão, também há suporte para operações mais avançadas, tais como:\n",
        "- Exponenciação: **. \n",
        "   - Este operador eleva o número à esquerda para o poder do número à sua direita. Por exemplo, 4 ** 2 dará 16.\n",
        "- Modulo:%. Este operador retorna o restante da divisão do número à esquerda pelo número à direita. Por exemplo, 18% 7 é igual a 4.\n",
        "- Divisão inteira: //\n",
        "   - 3/2, dará 1."
      ]
    },
    {
      "cell_type": "code",
      "metadata": {
        "id": "FW1j-ixcWtrW"
      },
      "source": [
        "# Exemplo de uso da Exponenciação\n",
        "print(4 ** 2)\n",
        "\n",
        "# Exemplo de Módulo\n",
        "print(18 % 7)\n",
        "\n",
        "# Exemplo de Divisão Inteira\n",
        "print(3 // 2)\n"
      ],
      "execution_count": null,
      "outputs": []
    },
    {
      "cell_type": "code",
      "metadata": {
        "id": "EWG-R2vGWtrf"
      },
      "source": [
        "# Exercício 01\n",
        "print(\"Se você tomou um empréstimo de R$1.000,00 com taxa de juros de 20% ao ano, após 04 anos qual é o valor de sua dívida?\")\n",
        "emprestimo = 1000.0\n",
        "taxa = 0.2\n",
        "anos = 4\n",
        "divida = emprestimo *(1+taxa)**anos\n",
        "print(\"Minha dívida é de \", divida, \"reais, depois de \", anos,\"anos.\" )\n"
      ],
      "execution_count": null,
      "outputs": []
    },
    {
      "cell_type": "code",
      "metadata": {
        "id": "DxKTSL1yWtrt"
      },
      "source": [
        "# exercício:\n",
        "# O aluno Matheus aplicou R$2.0000,00 na bolsa de valores durante 03 anos.\n",
        "# No primeiro ano ele teve um lucro de 20%.\n",
        "# No segundo ano ele teve um prejuízo de 8%\n",
        "# No terceiro ano ele teve um lucro de 4%\n",
        "# Calcule o valor em reais que ele obteve no final do terceiro ano.\n",
        "\n",
        "\n"
      ],
      "execution_count": null,
      "outputs": []
    },
    {
      "cell_type": "markdown",
      "metadata": {
        "id": "rHFpj7jGWtr1"
      },
      "source": [
        "## Variáveis e Tipos em Python\n",
        "- Em Python, uma variável permite que você se refira a um valor com um nome. Para atribuir um valor a  uma variável use =, como este exemplo:\n",
        "\n",
        "x = 5\n",
        "\n",
        "Agora você pode usar o nome dessa variável, x, em vez do valor real, 5.\n",
        "\n",
        "Lembre-se, = em Python significa atribuição, não igualdade!"
      ]
    },
    {
      "cell_type": "code",
      "metadata": {
        "id": "_f7iSQckWtr2"
      },
      "source": [
        "x=5\n",
        "x\n",
        "y = 3\n",
        "y\n"
      ],
      "execution_count": null,
      "outputs": []
    },
    {
      "cell_type": "code",
      "metadata": {
        "id": "aalFUTUIWtsA"
      },
      "source": [
        "print(x)"
      ],
      "execution_count": null,
      "outputs": []
    },
    {
      "cell_type": "code",
      "metadata": {
        "id": "SxEz4XMtWtsH"
      },
      "source": [
        "# Diferença entre atribuição e comparação \n",
        "print( x == 6)\n",
        "\n"
      ],
      "execution_count": null,
      "outputs": []
    },
    {
      "cell_type": "code",
      "metadata": {
        "id": "LWDgI7rvWtsL"
      },
      "source": [
        "#Exercício 02\n",
        "x = 1\n",
        "X = 2\n",
        "\n",
        "print(\"Python diferencia entre letras maiúsculas e minúsculas?\")\n",
        "print(\"Qual é o valor da variável x?\")\n",
        "print(\"A variável x é igual a \", x)\n",
        "print(\"Qual é o valor da variável X?\")\n",
        "print(\"A variável X é igual a \", X)"
      ],
      "execution_count": null,
      "outputs": []
    },
    {
      "cell_type": "code",
      "metadata": {
        "id": "n7IuseK8WtsT"
      },
      "source": [
        "# Exercício 03\n",
        "print(\"Reescreva o Exercício 01 utilizando variáveis\")\n",
        "valor = \n",
        "taxa_juros = \n",
        "anos = \n",
        "dívida = \n",
        "print(divida)"
      ],
      "execution_count": null,
      "outputs": []
    },
    {
      "cell_type": "code",
      "metadata": {
        "id": "PWxgWvwhWtsa"
      },
      "source": [
        "# Exercício 04\n",
        "print(\"Calcule o Índice de Massa Copórea (IMC)\")\n",
        "\n",
        "cabelo = .1\n",
        "barba = .4\n",
        "salto_do_sapato = 5\n",
        "peso = 80 + cabelo + barba\n",
        "altura = 1.83 + salto_do_sapato\n",
        "\n",
        "IMC = peso /altura**2\n",
        "\n",
        "print(IMC)"
      ],
      "execution_count": null,
      "outputs": []
    },
    {
      "cell_type": "markdown",
      "metadata": {
        "id": "CEuO14piWtsi"
      },
      "source": [
        "### Tipos de vaiáveis em Python\n",
        "\n",
        "Os tipos das variáveis são definidos dinamicamente em Python.\n",
        "- Tipos Básicos em Python\n",
        "    - int --> Inteiro\n",
        "    - flot --> ponto flutuante\n",
        "    - str --> String\n",
        "    - bool --> Booleano (True, False)"
      ]
    },
    {
      "cell_type": "code",
      "metadata": {
        "id": "se2Qt05GWtsj"
      },
      "source": [
        "# Exercício 05\n",
        "Nome_aluno = \"Isabel Muniz\"\n",
        "nota = 9.8\n",
        "bom_aluno = True\n",
        "idade = 22\n",
        "print(\"Escreva no console os valores dessas variáveis\")\n",
        "# escreva o restante do programa ....\n"
      ],
      "execution_count": null,
      "outputs": []
    },
    {
      "cell_type": "code",
      "metadata": {
        "id": "5g5mu0KRWtss"
      },
      "source": [
        "# Exercício 06\n",
        "print(\"O que ocorre se se somar um int com um float?\")\n",
        "a = 2\n",
        "b = 1.1\n",
        "c = a+b\n",
        "print(c)"
      ],
      "execution_count": null,
      "outputs": []
    },
    {
      "cell_type": "code",
      "metadata": {
        "id": "VYyS1Tm5Wts8"
      },
      "source": [
        "# Exercício 07\n",
        "print(\"O que ocorre se se somar duas strings?\")\n",
        "Nome = \"José\"\n",
        "Sobrenome = \"Silva\"\n",
        "Nome_Completo = Nome + \" \" + Sobrenome\n",
        "Nome_Completo"
      ],
      "execution_count": null,
      "outputs": []
    },
    {
      "cell_type": "code",
      "metadata": {
        "id": "X_b-itdLWttE"
      },
      "source": [
        "# Exercício 08\n",
        "print(\"É possível somar um int com um str?\")\n",
        "Nome = \"Maria\"\n",
        "Idade = 18\n",
        "Nome + Idade"
      ],
      "execution_count": null,
      "outputs": []
    },
    {
      "cell_type": "code",
      "metadata": {
        "id": "vTpPpFk2WttP"
      },
      "source": [
        "# Exercício 09\n",
        "# Use a função type(variavel) para obter o tipo da variável.\n",
        "x1 = 1\n",
        "x2 = \"aeiou\"\n",
        "x3 = False\n",
        "print(type(x1))\n",
        "print(type(x2))\n",
        "type(x3)"
      ],
      "execution_count": null,
      "outputs": []
    },
    {
      "cell_type": "markdown",
      "metadata": {
        "id": "F7KSKwVVWtta"
      },
      "source": [
        "### Dica:\n",
        "Para se converter tipos em outros, em Python se utiliza as seguintes funções:\n",
        "- str(variavel) <-- converte variavel para string\n",
        "- int(variavel) <-- converte variavel para inteiro\n",
        "- float(variavel) <-- converte variavel para ponto flutuante\n",
        "- bool((variavel) <-- converte variavel para booleano"
      ]
    },
    {
      "cell_type": "code",
      "metadata": {
        "id": "LH3BBBMdWttc"
      },
      "source": [
        "# Exercício 10\n",
        "# Escreva um programa que converta uma variável \"idade\" que é inteiro  em string.\n",
        "Idade = 22\n",
        "Nome = \"João \"\n",
        "# A saída de ser --> João tem 22 anos.\n",
        "print(Nome + str(Idade))"
      ],
      "execution_count": null,
      "outputs": []
    },
    {
      "cell_type": "markdown",
      "metadata": {
        "id": "7uBNZr89pBxb"
      },
      "source": [
        "### Pergunta:\n",
        "Quando se lê uma variável via teclado, qual é o seu tipo?"
      ]
    },
    {
      "cell_type": "code",
      "metadata": {
        "id": "MV22YSjWpLR2"
      },
      "source": [
        "print(\"entre com uma dado: \")\n",
        "variavel = input()\n",
        "print(variavel)\n",
        "type(variavel)\n"
      ],
      "execution_count": null,
      "outputs": []
    },
    {
      "cell_type": "code",
      "metadata": {
        "id": "_GWuMoAnpuNv"
      },
      "source": [
        "# convertendo a variavel para inteior\n",
        "\n",
        "variavel = int(variavel)\n",
        "type(variavel)"
      ],
      "execution_count": null,
      "outputs": []
    },
    {
      "cell_type": "markdown",
      "metadata": {
        "id": "kdovl8_vRD8g"
      },
      "source": [
        "### Programa desafio 1:\n",
        "\n",
        "Escreva um programa que solicite por antrada de teclado os seguintes valores de variáveis:\n",
        "- nome\n",
        "- altura\n",
        "-peso\n",
        "\n",
        "forneçao como saída o nome e o imc correspondente.\n",
        "\n",
        "Exemplo:\n",
        "Maria seu IMC é de 1.62"
      ]
    },
    {
      "cell_type": "code",
      "metadata": {
        "id": "yVSqPbw7RqG4"
      },
      "source": [
        "# Programa Desafio 1\n",
        "# Código\n",
        "\n"
      ],
      "execution_count": null,
      "outputs": []
    },
    {
      "cell_type": "code",
      "metadata": {
        "id": "BxJ7uWykWtth"
      },
      "source": [
        "# Curiosidade\n",
        "\"Eu sou \" + (\"ga\")*3 + \"go\"\n"
      ],
      "execution_count": null,
      "outputs": []
    },
    {
      "cell_type": "code",
      "metadata": {
        "id": "lwvGuxSsWttn"
      },
      "source": [
        "# Curiosidade\n",
        "print(\"Teste essas opções abaixo que estão em comentário\")\n",
        "#False + True\n",
        "#False * True\n",
        "False - True"
      ],
      "execution_count": null,
      "outputs": []
    },
    {
      "cell_type": "markdown",
      "metadata": {
        "id": "ewO5jUBzWtts"
      },
      "source": [
        "### Tipo list\n",
        "- tipo complexo, que representa uma lista de outras variáveis, não necessariamente de mesmo tipos.\n",
        "- As variáveis podem ser listas. No caso, teremos listas de listas\n",
        "\n",
        "Exemplo:\n",
        "\n",
        "lista1 = [1,2,3]\n",
        "\n",
        "lista2 = [\"Maria\", \"1.66\", 22, True]  #[Nome, Altura, Idade, Boa_estudante]"
      ]
    },
    {
      "cell_type": "code",
      "metadata": {
        "id": "_A9medfmWttt"
      },
      "source": [
        "# Lista com variáveis de mesmo tipo\n",
        "# Áreas dos cômodos (em metros quadrados)\n",
        "hall = 11.25\n",
        "kit = 18.0\n",
        "liv = 20.0\n",
        "bed = 10.75\n",
        "bath = 9.50\n",
        "\n",
        "# Criação da lista areas\n",
        "areas = [hall, kit, liv, bed, bath]\n",
        "\n",
        "# Print areas\n",
        "print(type(areas))\n",
        "print(areas)"
      ],
      "execution_count": null,
      "outputs": []
    },
    {
      "cell_type": "code",
      "metadata": {
        "id": "3BrTc6sZWttz"
      },
      "source": [
        "# Lista com variáveis de diferentes tipos\n",
        "# Áreas dos cômodos (em metros quadrados)\n",
        "hall = 11.25\n",
        "kit = 18.0\n",
        "liv = 20.0\n",
        "bed = 10.75\n",
        "bath = 9.50\n",
        "\n",
        "# Criação da lista areas\n",
        "areas = [\"hallway\", hall, \"kitchen\", kit, \"living room\", liv, \"bedroom\", bed, \"bathroom\", bath]\n",
        "\n",
        "# Print areas\n",
        "print(areas)\n"
      ],
      "execution_count": null,
      "outputs": []
    },
    {
      "cell_type": "code",
      "metadata": {
        "id": "VXNk5gNsWtt7"
      },
      "source": [
        "# Lista de Lista\n",
        "# variáveis de área variables (em metro quadrado)\n",
        "hall = 11.25\n",
        "kit = 18.0\n",
        "liv = 20.0\n",
        "bed = 10.75\n",
        "bath = 9.50\n",
        "\n",
        "# informação sobre metragem da casa como lista de lista\n",
        "house = [[\"hallway\", hall],\n",
        "         [\"kitchen\", kit],\n",
        "         [\"living room\", liv],\n",
        "         [\"bedroom\", bed],\n",
        "         [\"bathroom\", bath]\n",
        "         ]\n",
        "\n",
        "# Print a variaável house\n",
        "\n",
        "print(house)\n",
        "\n",
        "# Print o tipo da variável house\n",
        "\n",
        "print(type(house))"
      ],
      "execution_count": null,
      "outputs": []
    },
    {
      "cell_type": "code",
      "metadata": {
        "id": "IBJ34-nOWtuD"
      },
      "source": [
        "# Exercício 11\n",
        "# Crie 01 lista Familia, que é composta por 04 listas: Pai, Mae, Filho, Filha.\n",
        "# Essas listas têm as variáveis Nome (str), Idade (int), Peso (float), Altura (float)\n",
        "#sexo (bool) True-feminino, False-Masculino\n",
        "Pai = [\"Joao\",56,83.2,1.72,False]\n",
        "Mae = [\"Maria\",48,65.1,1.63,True]\n",
        "Filho = [\"William\",26,81.1,1.5,False]\n",
        "Filha = [\"Fernanda\",19,56.8,1.3,True]\n",
        "Familia = [Pai,Mae,Filho,Filha]\n",
        "print(Familia)"
      ],
      "execution_count": null,
      "outputs": []
    },
    {
      "cell_type": "markdown",
      "metadata": {
        "id": "d1n1FsUyWtuK"
      },
      "source": [
        "Acessado elementos de uma lista\n",
        "- list[n]  --> retorna a variável da posição n. O primeiro índice é o ZERO\n",
        "- list[n1:n2] --> retorna uma sub-lista da posição n1 até a posição n2-1\n",
        "- list[:n] --> retorna uma sub-lista da posição ZERO até n-1\n",
        "- list[n:] --> retorna uma sub-lista da posição n até o final da lista"
      ]
    },
    {
      "cell_type": "code",
      "metadata": {
        "id": "4f4tiyZfWtuN"
      },
      "source": [
        "# Exemplos\n",
        "lista = [1,2,3,4,5,6]\n",
        "#lista[0]\n",
        "#lista[2]\n",
        "#lista[7]\n",
        "#lista[-1]\n",
        "#lista[-2]\n",
        "#lista[1:3]\n",
        "#lista[:3]\n",
        "#lista[:]\n",
        "lista[-5:3]"
      ],
      "execution_count": null,
      "outputs": []
    },
    {
      "cell_type": "code",
      "metadata": {
        "id": "i9HgHM-9WtuX"
      },
      "source": [
        "#Exercício 12\n",
        "\n",
        "# Criação da lista areas\n",
        "areas = [\"hallway\", 11.25, \"kitchen\", 18.0, \"living room\", 20.0, \"bedroom\", 10.75, \"bathroom\", 9.50]\n",
        "\n",
        "# Print o segundo elemento da lista\n",
        "print(areas[1])\n",
        "\n",
        "# Print o valor do último elemnto da lista\n",
        "print(areas[6])\n",
        "\n",
        "# Print o valor da área do living room\n",
        "print(areas[5])\n",
        "\n",
        "# Print o valor da área total da casa \n",
        "print(areas[1]+areas[3]+areas[5])"
      ],
      "execution_count": null,
      "outputs": []
    },
    {
      "cell_type": "code",
      "metadata": {
        "id": "bIaW7WSbWtud"
      },
      "source": [
        "# Dica\n",
        "x = [[\"a\", \"b\", \"c\"],\n",
        "     [\"d\", \"e\", \"f\"],\n",
        "     [\"g\", \"h\", \"i\"]]\n",
        "print(x[2][0])\n",
        "print(x[2][:2])"
      ],
      "execution_count": null,
      "outputs": []
    },
    {
      "cell_type": "code",
      "metadata": {
        "id": "It25Np4hWtuk"
      },
      "source": [
        "#Exercício 13 - Homework\n",
        "# Dado o Exercício 11.\n",
        "# Crie uma lista denominada de Nomes que contenha os nomes do Pai, Mae, Filho e Filha da lista Familia\n",
        "\n",
        "nomes = \n",
        "nomes"
      ],
      "execution_count": null,
      "outputs": []
    },
    {
      "cell_type": "code",
      "metadata": {
        "id": "qEdJQD1pWtur"
      },
      "source": [
        "#Exercício 14 - Homework\n",
        "# Dado o Exercício 11.\n",
        "# Crie uma lista denominada de Filhos que contenha apenas as informações de Filho e Filha da lista Familia\n"
      ],
      "execution_count": null,
      "outputs": []
    },
    {
      "cell_type": "code",
      "metadata": {
        "id": "jYzv1ZNRWtux"
      },
      "source": [
        "#Exercício 15 - Homework\n",
        "# Dado o Exercício 11.\n",
        "# Calcule IMC das pessoas da lista Familia.\n",
        "# Armazene esses valores numa lista denominada de valor_IMC\n",
        "#????\n"
      ],
      "execution_count": null,
      "outputs": []
    },
    {
      "cell_type": "markdown",
      "metadata": {
        "id": "0SqbqnesWtvB"
      },
      "source": [
        "Modificar elementos de uma lista\n",
        "- lista[elemento] = novo_valor\n",
        "\n",
        "Incluir elementos em lista (concatenar duas ou mais listas)\n",
        "- lista3 = lista1 + lista3\n",
        "\n",
        "Remover Elementos em Lista\n",
        "- del(lista[elemento])"
      ]
    },
    {
      "cell_type": "code",
      "metadata": {
        "id": "uCB0VcoYVAhV"
      },
      "source": [
        "# Exemplo com listas\n",
        "lista1 = [1,1,1]\n",
        "lista2 =[2,2,2]\n",
        "lista3 = lista1 + lista2\n",
        "lista3"
      ],
      "execution_count": null,
      "outputs": []
    },
    {
      "cell_type": "code",
      "metadata": {
        "id": "maCwgIELVeC0"
      },
      "source": [
        "# Exemplo com lista - continuação\n",
        "print(\"lista3: \", lista3)\n",
        "print(\"lista3[2]: \", lista3[2])\n",
        "\n",
        "# remover um elemento da lista3\n",
        "del(lista3[2])\n",
        "print(\"lista3: \", lista3)\n",
        "print(\"lista3[2]: \", lista3[2])"
      ],
      "execution_count": null,
      "outputs": []
    },
    {
      "cell_type": "code",
      "metadata": {
        "id": "bBMdNeavWtvR"
      },
      "source": [
        "# Exercício 16\n",
        "# Remova pela ordem a string \"poolhouse\" e o valor de sua área\n",
        "areas = [\"hallway\", 11.25, \"kitchen\", 18.0,\n",
        "        \"child zone\", 20.0, \"bedroom\", 10.75,\n",
        "         \"bathroom\", 10.50, \"poolhouse\", 24.5,\n",
        "         \"garage\", 15.45]\n",
        "del(areas[10:12])\n",
        "#del(areas[10])\n",
        "print(areas)"
      ],
      "execution_count": null,
      "outputs": []
    },
    {
      "cell_type": "code",
      "metadata": {
        "id": "Yxc9vMtzWtvD"
      },
      "source": [
        "# Exercício 17 - Homework\n",
        "# Dado o Exercício 11\n",
        "# Inclua mais um filho, denominado Filho2 na lista Familia\n",
        "\n",
        "print(Familia)"
      ],
      "execution_count": null,
      "outputs": []
    },
    {
      "cell_type": "code",
      "metadata": {
        "id": "z_w1bQqyWtvM"
      },
      "source": [
        "# Exercício 18 - Homework\n",
        "# Dado o Exercício 11\n",
        "# Remova Filho da lista Familia\n",
        "# O que ocorre com os índices da lista Familia?\n",
        "\n",
        "print(Familia)"
      ],
      "execution_count": null,
      "outputs": []
    },
    {
      "cell_type": "code",
      "metadata": {
        "id": "sbRECfP2XVwc"
      },
      "source": [
        "#Exercício 19 - Homework\n",
        "# Dado o Exercício 11.\n",
        "# Calcule IMC das pessoas da lista Familia, e inclua essa informação na lista Família\n",
        "#????"
      ],
      "execution_count": null,
      "outputs": []
    },
    {
      "cell_type": "markdown",
      "metadata": {
        "id": "zxq1iF5pWc3B"
      },
      "source": [
        "### Atenção\n",
        " - Há difença entre atribuição e cópia de listas."
      ]
    },
    {
      "cell_type": "code",
      "metadata": {
        "id": "-UH1Hy5LWtvb"
      },
      "source": [
        "# Cópia de lista: diferença entre atribuição e cópia de listas\n",
        "# Criação de lista\n",
        "lista1 = [11.25, 18.0, 20.0, 10.75, 9.50]\n",
        "\n",
        "# Atribuição e copia de listas\n",
        "#lista2 = lista1\n",
        "lista2 = list(lista1)\n",
        "#lista2 = lista1[:]\n",
        "\n",
        "# Modificação na lista\n",
        "lista2[0] = 5.0\n",
        "\n",
        "# Print lista1\n",
        "print(lista1)"
      ],
      "execution_count": null,
      "outputs": []
    },
    {
      "cell_type": "markdown",
      "metadata": {
        "id": "rbT0GXsDWtvk"
      },
      "source": [
        "## Usando Função em Python\n",
        "- Há diversas funções úteis já disponíveis em Python\n",
        "    - type(variavel)\n",
        "    - print(variavel)\n",
        "    - str(variavel); float(variavel); ...\n",
        "    - max(variavel)\n",
        "    - min(variavel)\n",
        "    - mean(variavel)\n",
        "    - round(valor,precisao), round(valor)\n",
        "    - complex(valor)\n",
        "    - sorted(iterable, key, reverse)\n",
        "    - help(funcao)"
      ]
    },
    {
      "cell_type": "code",
      "metadata": {
        "id": "9jnsakiiWtvm"
      },
      "source": [
        "# Exemplos\n",
        "# Criar variáveis var1 e var2\n",
        "var1 = [1, 2, 3, 4]\n",
        "var2 = True\n",
        "\n",
        "# Print tipo (type) de var1\n",
        "print(type(var1))\n",
        "\n",
        "# Print o tamanho de var1\n",
        "print(len(var1))\n",
        "\n",
        "# Converter var2 paar um inteiro: out2\n",
        "out2 = int(var2)"
      ],
      "execution_count": null,
      "outputs": []
    },
    {
      "cell_type": "code",
      "metadata": {
        "id": "v2dxg-PtWtvu"
      },
      "source": [
        "help(max)"
      ],
      "execution_count": null,
      "outputs": []
    },
    {
      "cell_type": "code",
      "metadata": {
        "id": "uVkGXITqWtv2"
      },
      "source": [
        "?max"
      ],
      "execution_count": null,
      "outputs": []
    },
    {
      "cell_type": "code",
      "metadata": {
        "id": "2E6SnXewWtwB"
      },
      "source": [
        "# Teste essas opções e conclua com funciona o número complexo\n",
        "complex()\n",
        "complex(1)\n",
        "complex(1,2)"
      ],
      "execution_count": null,
      "outputs": []
    },
    {
      "cell_type": "code",
      "metadata": {
        "id": "fTkMoZc0WtwH"
      },
      "source": [
        "# Execute o comando help()\n",
        "help(sorted)"
      ],
      "execution_count": null,
      "outputs": []
    },
    {
      "cell_type": "code",
      "metadata": {
        "id": "sKdxe_c0WtwS"
      },
      "source": [
        "# Exemplo\n",
        "# Criar duas listas:first e second\n",
        "first = [11.25, 18.0, 20.0]\n",
        "second = [10.75, 9.50]\n",
        "\n",
        "# Unir as duas listas na lista full\n",
        "full = first + second\n",
        "\n",
        "# Ordenar a lista full em ordem decrscente e armazenar o resultado na lista full_sorted\n",
        "#full_sorted = sorted(full, reverse = True)\n",
        "full_sorted = sorted(full)\n",
        "\n",
        "# Print a lista full_sorted\n",
        "print(full_sorted)\n",
        "\n",
        "# Investigue se não se utilizar o parâmetro reserve\n",
        "\n",
        "# Qual é a utilidade do parâmetro key?"
      ],
      "execution_count": null,
      "outputs": []
    },
    {
      "cell_type": "markdown",
      "metadata": {
        "id": "AU8CIrdHWtwd"
      },
      "source": [
        "### Lembrete:\n",
        "Em Python, todos os tipos de variáveis são classe.\n",
        "- As variáveis são objetos de classes específicas\n",
        "\n",
        "Assim, todas as variáveis possuem métodos específicos.\n",
        "- Os métodos são funções pertencentes a objetos\n",
        "\n",
        "Para acessar métodos, devemos utilizar a seguinte sintase:\n",
        "- variavel.metodo(parametros)"
      ]
    },
    {
      "cell_type": "markdown",
      "metadata": {
        "id": "J4hnxQzXWtwi"
      },
      "source": [
        "Métodos da classe String\n",
        "\n",
        "- As strings possuem com um monte de métodos específicos.\n",
        "- Para verificar mais detalhadamente, você sempre pode digitar help (str) no IPython Shell."
      ]
    },
    {
      "cell_type": "code",
      "metadata": {
        "id": "e_Z-QSufWtwl"
      },
      "source": [
        "# Exemplo\n",
        "# string room\n",
        "room = \"poolhouse\"\n",
        "\n",
        "# Use o método upper() sobre a string room. Armazene a resposta em room_up\n",
        "room_up = room.upper()\n",
        "\n",
        "# Print as strings room e room_up\n",
        "print(room)\n",
        "print(room_up)\n",
        "\n",
        "# Print o número de ocorrência da letra \"o\" na string room\n",
        "print(room.count(\"o\"))"
      ],
      "execution_count": null,
      "outputs": []
    },
    {
      "cell_type": "code",
      "metadata": {
        "id": "e1JebusTWtws"
      },
      "source": [
        "Alguns métodos de Listas\n",
        "- lista.index(parametro)\n",
        "- lista(count(parametro))\n",
        "- append()\n",
        "- remove(), remove o primeiro elemento da lista que casa com o parâmetro\n",
        "- reversed(), reverte a ordem dos elementos\n"
      ],
      "execution_count": null,
      "outputs": []
    },
    {
      "cell_type": "code",
      "metadata": {
        "id": "4G0rf8EsWtww"
      },
      "source": [
        "frase = \"socorram me subi no onibus em marrocos\"\n",
        "print(frase[::-1])\n",
        "frase1 = \"o po de cocaina mata maniaco cedo po\"\n",
        "print(frase1[::-1])"
      ],
      "execution_count": null,
      "outputs": []
    },
    {
      "cell_type": "code",
      "metadata": {
        "id": "ImPbsFJXWtwy"
      },
      "source": [
        "# Criar a lista areas\n",
        "areas = [11.25, 18.0, 20.0, 10.75, 9.50]\n",
        "\n",
        "# Print o índice do elemento 20.0 na lista\n",
        "print(areas.index(20.0))\n",
        "\n",
        "# Print a quantidade de vezes que 14.5 apareace em areas\n",
        "\n",
        "print(areas.count(14.5))"
      ],
      "execution_count": null,
      "outputs": []
    },
    {
      "cell_type": "code",
      "metadata": {
        "id": "UzSK-0_bWtw-"
      },
      "source": [
        "# Exercício 19 Homework\n",
        "#Criar a lista areas\n",
        "areas = [11.25, 18.0, 20.0, 10.75, 9.50]\n",
        "\n",
        "# Use o método append duas vezes para incluir os valores 24.5 e 15.45 no final da lista areas\n",
        "\n",
        "???????\n",
        "\n",
        "# Print a lista areas\n",
        "?????\n",
        "\n",
        "# Invera a ordem dos elementos na lista areas via o método reserve\n",
        "?????\n",
        "\n",
        "# Print a lista areas\n",
        "print(areas)"
      ],
      "execution_count": null,
      "outputs": []
    },
    {
      "cell_type": "markdown",
      "metadata": {
        "id": "MzdUF61uWtxE"
      },
      "source": [
        "## Módulos em Python\n",
        "- Modulos agrupam funções, métodos e tipos específicos\n",
        "\n",
        "Pacotes são implementações Módulos disponíveis em Python \n",
        "- Há centenas de pacotes disponíveis em Python.\n",
        "\n",
        "Importação de Pacotes em Python (importa todo o pacote)\n",
        "- import pacote_desejado\n",
        "- import math\n",
        "\n",
        "Para usar funções do pacotes:\n",
        "- pacote_desejado.metodo_desejado(parametros)\n",
        "- pacote_desejado.variavel_desejada\n",
        "- math.pi\n",
        "\n",
        "Para importar apenas um módulo específico de um pacote, utilizamos:\n",
        "- from pacote_desejado import modulo_desejado\n",
        "\n",
        "Exemplo: importa só o pacote sqrt do pacote math\n",
        "\n",
        "- from math import sqrt    \n",
        "- print(sqrt(25))\n",
        "\n",
        "Ao utilizar \"from package import item\", o item pode ser um subpacote, submódulo, classe, função ou variável."
      ]
    },
    {
      "cell_type": "code",
      "metadata": {
        "id": "GPjXmEEKWtxF"
      },
      "source": [
        "# Exemplo\n",
        "# Importar pacote math \n",
        "import math\n",
        "\n",
        "# Definição de raio\n",
        "r = 0.43\n",
        "\n",
        "\n",
        "# Cálculo de C\n",
        "C = 2 * r * math.pi\n",
        "\n",
        "# Cálculo de A\n",
        "A = math.pi * r ** 2\n",
        "\n",
        "# print valores da Circunferência e Área\n",
        "print(\"Circunferência: \" + str(C))\n",
        "print(\"Área: \" + str(A))"
      ],
      "execution_count": null,
      "outputs": []
    },
    {
      "cell_type": "code",
      "metadata": {
        "id": "-iKw2qgxWtxJ"
      },
      "source": [
        "dir(math)"
      ],
      "execution_count": null,
      "outputs": []
    },
    {
      "cell_type": "code",
      "metadata": {
        "id": "VBsdcA05WtxO"
      },
      "source": [
        "# Exemplo\n",
        "# Definição do raio\n",
        "r = 192500\n",
        "\n",
        "# Importar apenas a função radians do pacote math\n",
        "from math import radians \n",
        "\n",
        "# Calcular o arco correspondente a 12 graus.\n",
        "\n",
        "arco = r* radians(12)\n",
        "\n",
        "# Print o valor de arco\n",
        "print(arco)"
      ],
      "execution_count": null,
      "outputs": []
    },
    {
      "cell_type": "code",
      "metadata": {
        "id": "_aUREtLMWtxX"
      },
      "source": [
        "# Exemplo\n",
        "# Definição do raio\n",
        "r = 192500\n",
        "\n",
        "# Importar apenas a função radians do pacote math, redefinindo o nome da função\n",
        "from math import radians as francisco\n",
        "\n",
        "# Calcular o arco correspondente a 12 graus.\n",
        "\n",
        "arco = r* francisco(12)\n",
        "\n",
        "# Print o valor de arco\n",
        "print(arco)"
      ],
      "execution_count": null,
      "outputs": []
    },
    {
      "cell_type": "markdown",
      "metadata": {
        "id": "vRZhUmX1Wtxd"
      },
      "source": [
        "Alguns exemplos de funções matemáticas:\n",
        "- import math\n"
      ]
    },
    {
      "cell_type": "code",
      "metadata": {
        "id": "glAsihQcWtxe"
      },
      "source": [
        "#Exemplos de Uso\n",
        "import math\n",
        "print(math.exp(1.0))\n",
        "print(math.pi)\n",
        "print(math.e)\n",
        "print(math.cos( math.pi))\n",
        "teta = 0.7\n",
        "y = math.sin(teta) ** 2 + math.cos(teta) ** 2\n",
        "print(y)"
      ],
      "execution_count": null,
      "outputs": []
    },
    {
      "cell_type": "markdown",
      "metadata": {
        "id": "FLqPhjveWtxr"
      },
      "source": [
        "##  Comando de Controle de Fluxo\n",
        "- If\n",
        "\n",
        "    if (condição_lógica):\n",
        "         comando_1\n",
        "         comando_2\n",
        "         ...\n",
        "         comando_n\n",
        "         \n"
      ]
    },
    {
      "cell_type": "markdown",
      "metadata": {
        "id": "odpQMzYVWtxs"
      },
      "source": [
        "- If-then-Else\n",
        "\n",
        "    if (condição_lógica):\n",
        "         comando_1\n",
        "         comando_2\n",
        "         ...\n",
        "         comando_n\n",
        "     else:\n",
        "         comando_k1\n",
        "         comando_k2\n",
        "         ...\n",
        "         comando_kn"
      ]
    },
    {
      "cell_type": "markdown",
      "metadata": {
        "id": "Uihql0-0Wtxv"
      },
      "source": [
        "Descubra o erro do programa abaixo"
      ]
    },
    {
      "cell_type": "code",
      "metadata": {
        "id": "nitAEIyPWtxx"
      },
      "source": [
        "# Exemplo de uso do comando if\n",
        "\n",
        "a = 34\n",
        "if a > 0:\n",
        "print (\"a é positivo \")"
      ],
      "execution_count": null,
      "outputs": []
    },
    {
      "cell_type": "code",
      "metadata": {
        "id": "qWCLZ4WlWtyD"
      },
      "source": [
        "# Exemplo  de uso do comando if\n",
        "a = 34\n",
        "if a > 0:\n",
        " print (\"a é positivo \")\n",
        "print(\"Identação é FUNDAMENTAL em Python\")"
      ],
      "execution_count": null,
      "outputs": []
    },
    {
      "cell_type": "code",
      "metadata": {
        "id": "jjzFHo89WtyN"
      },
      "source": [
        "# Exemplo de uso do comando if-else\n",
        "a = 34\n",
        "if a > 0:\n",
        "  print (\"O valor de a é positivo\")\n",
        "else :\n",
        "  print (\"O valor de a não é positivo\")\n"
      ],
      "execution_count": null,
      "outputs": []
    },
    {
      "cell_type": "code",
      "metadata": {
        "id": "TPLZ6WLeWtyQ"
      },
      "source": [
        "# Exemplo de uso do comando if-elif-else\n",
        "a = 17\n",
        "if a == 0:\n",
        " print (\"a é zero \")\n",
        "elif a < 0:\n",
        " print (\"a é negativo \")\n",
        "else :\n",
        " print (\"a é positivo \")"
      ],
      "execution_count": null,
      "outputs": []
    },
    {
      "cell_type": "code",
      "metadata": {
        "id": "Kt3LS-bVrN1O"
      },
      "source": [
        "# Exemlo de uso de IF-ELIF\n",
        "\n",
        "# atribuindo um valor qualquer a uma variavel\n",
        "\n",
        "print(\" entre com o valor de um número inteiro: \")\n",
        "x = int(input())\n",
        "\n",
        "# verificando o valor da variavel\n",
        "if x<0:\n",
        "  print('O valor eh negativo')\n",
        "elif x<10:\n",
        "  print('O valor eh menor que 10')\n",
        "elif x<20:\n",
        "  print('O valor eh menor que 20')\n",
        "elif x<30:\n",
        "  print('O valor eh menor que 30')\n",
        "elif x<40:\n",
        "  print('O valor eh menor que 40')\n",
        "elif x<50:\n",
        "  print('O valor eh menor que 50')\n",
        "elif x<100:\n",
        "  print('O valor eh menor que 100')\n",
        "elif x<500:\n",
        "  print('O valor eh menor que 500')\n",
        "elif x<1000:\n",
        "  print('O valor eh menor que 1000')\n",
        "else:\n",
        "  print('O valor eh maior ou igual a 1000')"
      ],
      "execution_count": null,
      "outputs": []
    },
    {
      "cell_type": "code",
      "metadata": {
        "id": "mXzhLg3KqlZH"
      },
      "source": [
        "# Exercício 20 - Homework\n",
        "\n",
        "# Leia tres string\n",
        "\n",
        "# Verifique se ao menos duas delas sao iguais entre si (imprima um aviso)\n",
        "# ou se todas sao diferentes entre si (imprima outro aviso)"
      ],
      "execution_count": null,
      "outputs": []
    },
    {
      "cell_type": "markdown",
      "metadata": {
        "id": "ihFKz5xBZe0n"
      },
      "source": [
        "### Programa Desafio 2\n",
        "- Utilize o Programa Desafio 1 como base.\n",
        "- solicite o Nome, Sexo, Peso e Altura.\n",
        "- Calcule o IMC\n",
        "- Dê o diagnóstivo:\n",
        "  - Se for homem:\n",
        "    - menor que 20 --> abaixo do peso\n",
        "   - entre 20 e 25 --> normal\n",
        "    - entre 25 e 30 --> sobrepeso\n",
        "    - acima de 30  --> obesso\n",
        " \n",
        " - Se for mulher:\n",
        "    - menor que 19 --> abaixo do peso\n",
        "    - entre 19 e 24 --> normal\n",
        "    - entre 24 e 29 --> sobrepeso\n",
        "    - acima de 29  --> obesso\n",
        "\n",
        "\n",
        "Exemplo:\n",
        " Maria, baseado no seu IMC, o seu peso está NORMAL.\n"
      ]
    },
    {
      "cell_type": "code",
      "metadata": {
        "id": "O-RZ8QslZV48"
      },
      "source": [
        "# Código do Programa Desafio 2\n"
      ],
      "execution_count": null,
      "outputs": []
    },
    {
      "cell_type": "markdown",
      "metadata": {
        "id": "HlcqdyNxWtyg"
      },
      "source": [
        "##  Comando de repetição (loops)\n",
        "- Comando for\n",
        "\n",
        "    for (variavel) in (sequencia):\n",
        "       comando_1\n",
        "       comando_2\n",
        "       ...\n",
        "       comando_n\n",
        "- Comando while\n",
        "    \n",
        "    while (condicao):\n",
        "       comando_1\n",
        "       comando_2\n",
        "       ...\n",
        "       comando_n"
      ]
    },
    {
      "cell_type": "markdown",
      "metadata": {
        "id": "I-MaEPPdwfiz"
      },
      "source": [
        "### Nota:\n",
        " - O comando for é usado para percorrer uma sequência qualquer."
      ]
    },
    {
      "cell_type": "code",
      "metadata": {
        "id": "GosKA8-OwJps"
      },
      "source": [
        "# Exemplo de uso do comando for\n",
        "for letter in \"banana\":\n",
        "   print(letter)"
      ],
      "execution_count": null,
      "outputs": []
    },
    {
      "cell_type": "markdown",
      "metadata": {
        "id": "F79jSvWYwsWs"
      },
      "source": [
        "- Também podemos percorrer um intervalo numerico com o range."
      ]
    },
    {
      "cell_type": "code",
      "metadata": {
        "id": "uCSsy8_dwXGB"
      },
      "source": [
        "# Exemplo de uso do comando for\n",
        "\n",
        "for number in range(10):\n",
        "  print(number)"
      ],
      "execution_count": null,
      "outputs": []
    },
    {
      "cell_type": "code",
      "metadata": {
        "id": "OeZYS7fzw2xH"
      },
      "source": [
        "# Exemplo de uso do comando for\n",
        "\n",
        "for x in range(5, 15):\n",
        "  print('O numero é ' + str(x))"
      ],
      "execution_count": null,
      "outputs": []
    },
    {
      "cell_type": "code",
      "metadata": {
        "id": "nx2n_og5xLA-"
      },
      "source": [
        "# Exercício 21 - Homework\n",
        "# Implemente um laco que imprima a tabuada de um número\n",
        "\n",
        "print(\" entre com um número inteiro positivo: \")\n",
        "base = int(input())\n",
        "\n",
        "# Escreve o restante do código utilizando o comendo for\n",
        "\n"
      ],
      "execution_count": null,
      "outputs": []
    },
    {
      "cell_type": "code",
      "metadata": {
        "id": "aCK7XiE3ydLN"
      },
      "source": [
        "# Exemplo - uso do comando for\n",
        "\n",
        "print(\"O range() pode ter o passo entre os elementos especificados.\")\n",
        "print( \"Neste exemplo, o passo é 10\")\n",
        "\n",
        "for y in range(0, 100, 10):\n",
        "  print('O numero eh ' + str(y))"
      ],
      "execution_count": null,
      "outputs": []
    },
    {
      "cell_type": "code",
      "metadata": {
        "id": "zzSjDSvrzBDA"
      },
      "source": [
        "# Exercíco 22 - Homework\n",
        "\n",
        "# Implemente um laco que exiba os multiplos de 5 entre 0 e 50 (inclusive)"
      ],
      "execution_count": null,
      "outputs": []
    },
    {
      "cell_type": "code",
      "metadata": {
        "id": "3Iozwd8KWtyi"
      },
      "source": [
        "# Exemplos de uso do comando for\n",
        "print(\"Primeiro print\")\n",
        "for i in range(2,5):\n",
        "    print(i)\n",
        "print(\"Segundo print\")\n",
        "for i in range(5):\n",
        "    print(i)\n",
        "print(\"Terceiro print\")\n",
        "lista = [\"p\", \"y\", \"t\", \"h\", \"o\", \"n\"]\n",
        "for item in lista:\n",
        "    print (item, end=' ')"
      ],
      "execution_count": null,
      "outputs": []
    },
    {
      "cell_type": "code",
      "metadata": {
        "id": "hUxvQ8URWtyp"
      },
      "source": [
        "# Exemplo de uso do comando for\n",
        "for x in [1,2,6]:\n",
        " print(x)"
      ],
      "execution_count": null,
      "outputs": []
    },
    {
      "cell_type": "code",
      "metadata": {
        "id": "jNXGoyp4Wtyt"
      },
      "source": [
        "# Exemplo de uso do comando for\n",
        "print(\"Uso do enumerate para se obter índice numérico\")\n",
        "for indice, valor in enumerate([\"p\", \"y\", \"t\", \"h\", \"o\", \"n\"]):\n",
        "    print (indice, valor)"
      ],
      "execution_count": null,
      "outputs": []
    },
    {
      "cell_type": "code",
      "metadata": {
        "id": "5Q1XZhItWtyz"
      },
      "source": [
        "#Exemplo - É possível implementar do comando \"for\" via lista\n",
        "lista1 = [x**2 for x in range(0,5)]\n",
        "print(lista1)"
      ],
      "execution_count": null,
      "outputs": []
    },
    {
      "cell_type": "code",
      "metadata": {
        "id": "eCOKf5SXWty3"
      },
      "source": [
        "#Exemplo - É possível implementar do comando \"for\" via lista\n",
        "lista2 = [True, \"2\", 3.0, 4]\n",
        "[type(item) for item in lista2]"
      ],
      "execution_count": null,
      "outputs": []
    },
    {
      "cell_type": "markdown",
      "metadata": {
        "id": "L1Vy98sEzOMN"
      },
      "source": [
        "### Nota:\n",
        "-É possivel encadear um laco dentro de outro (sem limites)."
      ]
    },
    {
      "cell_type": "code",
      "metadata": {
        "id": "Rc4987AlzWaL"
      },
      "source": [
        "# Exemplo for encadeado\n",
        "\n",
        "for a in range(0,10):\n",
        "  print(\"O valor de a é: \" + str(a))\n",
        "  for b in range(0,5):\n",
        "    print(\" \\t O valor de b é: \" + str(b))"
      ],
      "execution_count": null,
      "outputs": []
    },
    {
      "cell_type": "code",
      "metadata": {
        "id": "WO874PKfWty8"
      },
      "source": [
        "# Exemplo de uso do comando while\n",
        "count = 0\n",
        "while count <= 5:\n",
        "    print(count)\n",
        "    count += 1"
      ],
      "execution_count": null,
      "outputs": []
    },
    {
      "cell_type": "code",
      "metadata": {
        "id": "y7Qc_tDqWtzA"
      },
      "source": [
        "# Exemplo de uso do comando while com break\n",
        "count = 0\n",
        "while count <= 5:\n",
        "    print(count)\n",
        "    count += 1\n",
        "    if count > 3: break"
      ],
      "execution_count": null,
      "outputs": []
    },
    {
      "cell_type": "code",
      "metadata": {
        "id": "AIFplMKNWtzD"
      },
      "source": [
        "# Comando else no final de um loop é executado após o término do loop\n",
        "#\n",
        "# Loop while\n",
        "#\n",
        "count = 0\n",
        "while count <= 5:\n",
        "    print(count)\n",
        "    count += 1\n",
        "    if(count == 3):break\n",
        "else:\n",
        "    print('após iteração')\n",
        "\n",
        "#\n",
        "# Loop for\n",
        "#\n",
        "for i in range(5):\n",
        "    print(i)\n",
        "else:\n",
        "    print('após iteração')\n"
      ],
      "execution_count": null,
      "outputs": []
    },
    {
      "cell_type": "markdown",
      "metadata": {
        "id": "YwXCn5UyWtzI"
      },
      "source": [
        "## Definição de Função em Python\n",
        "    \n",
        "    def funcao(lista_parametros):\n",
        "       comando_1\n",
        "       comando_2\n",
        "       ...\n",
        "       comando_n\n",
        "       return(variavel_de_saida)"
      ]
    },
    {
      "cell_type": "code",
      "metadata": {
        "id": "gouic33wWtzK"
      },
      "source": [
        "def hello(meu_nome):\n",
        "  print('Olá,',meu_nome, \".\")"
      ],
      "execution_count": null,
      "outputs": []
    },
    {
      "cell_type": "code",
      "metadata": {
        "id": "5eVsjzx1WtzY"
      },
      "source": [
        "hello(\"John Snow. You know nothing!\")"
      ],
      "execution_count": null,
      "outputs": []
    },
    {
      "cell_type": "code",
      "metadata": {
        "id": "HSzogyqcWtzg"
      },
      "source": [
        "def hello(meu_nome,idade=10):\n",
        "  print('Olá, ',meu_nome,'\\nSua idade é:',idade)"
      ],
      "execution_count": null,
      "outputs": []
    },
    {
      "cell_type": "code",
      "metadata": {
        "id": "LGqJSKCzWtzm"
      },
      "source": [
        "hello(\"João da Silva\", 21)"
      ],
      "execution_count": null,
      "outputs": []
    },
    {
      "cell_type": "code",
      "metadata": {
        "id": "fIEMsGA3Wtzt"
      },
      "source": [
        "hello(\"João da Silva\")"
      ],
      "execution_count": null,
      "outputs": []
    },
    {
      "cell_type": "code",
      "metadata": {
        "id": "VPndZJMhWtz1"
      },
      "source": [
        "def calcular_pagamento(qtd_horas, valor_hora):\n",
        "    horas = float(qtd_horas)\n",
        "    taxa = float(valor_hora)\n",
        "    if horas <= 40:\n",
        "        salario=horas*taxa\n",
        "    else:\n",
        "        h_excd = horas - 40\n",
        "        salario = 40*taxa+(h_excd*(1.5*taxa))\n",
        "    return (salario)"
      ],
      "execution_count": null,
      "outputs": []
    },
    {
      "cell_type": "code",
      "metadata": {
        "id": "OzsKMlwNWtz3"
      },
      "source": [
        "# Exemplo de função com valor de retorno\n",
        "def calcular_pagamento(horas, taxa):\n",
        " salario=float(horas)*float(taxa)\n",
        " return (salario)"
      ],
      "execution_count": null,
      "outputs": []
    },
    {
      "cell_type": "code",
      "metadata": {
        "id": "rMFpatabWtz-"
      },
      "source": [
        "total_salario = calcular_pagamento(40,20)\n",
        "print('O valor de seus rendimentos é R$',total_salario)"
      ],
      "execution_count": null,
      "outputs": []
    },
    {
      "cell_type": "code",
      "metadata": {
        "id": "Dm-U6r0pWt0L"
      },
      "source": [
        "str_horas= input('Digite as horas: ')\n",
        "str_taxa=input('Digite a taxa: ')"
      ],
      "execution_count": null,
      "outputs": []
    },
    {
      "cell_type": "code",
      "metadata": {
        "id": "S2cORsX7Wt0a"
      },
      "source": [
        "print(str_horas)\n",
        "print(str_taxa)\n",
        "float_horas = float(str_horas)\n",
        "float_taxa = float(str_taxa)"
      ],
      "execution_count": null,
      "outputs": []
    },
    {
      "cell_type": "code",
      "metadata": {
        "id": "4_En37fHWt0g"
      },
      "source": [
        "print(float_horas)\n",
        "print(float_taxa)\n",
        "total_salario = calcular_pagamento(float_horas,float_taxa)\n",
        "print('O valor de seus rendimentos é R$',total_salario)"
      ],
      "execution_count": null,
      "outputs": []
    },
    {
      "cell_type": "code",
      "metadata": {
        "id": "POkESbSTWt0l"
      },
      "source": [
        "# Exemplo de função - retorno mais de uma variável\n",
        "print(\"Programa com exemplo para função que retorna mais de uma variável.\")\n",
        "def powers(x):\n",
        " #Retorna o quadrado, o cubo e a quarta potência de um dado número x.\"\"\"\n",
        " return x ** 2, x ** 3, x ** 4\n",
        "print(powers(2))\n",
        "x2, x3, x4 = powers(3)\n",
        "print(\"x2=\",x2,\" x3=\",x3,\"x4=\", x4)"
      ],
      "execution_count": null,
      "outputs": []
    },
    {
      "cell_type": "markdown",
      "metadata": {
        "id": "tgOHrAK5Wt0p"
      },
      "source": [
        "### Lembrete:\n",
        "Na definição de uma função, podemos dar defaults nos argumentos da função"
      ]
    },
    {
      "cell_type": "code",
      "metadata": {
        "id": "QfaJ0Xy4Wt0q"
      },
      "source": [
        "# Exemplo de função - Valores Default em funçã\n",
        "\n",
        "print(\"Exemplo de uso de função com parámetros 'default'\")\n",
        "\n",
        "def myfunc(x, p=2, debug=False):\n",
        "  if debug:\n",
        "   print(\"Mensagem do módulo debug da função myfunc para x = \" + str(x) + \" elevado \" + str(p))\n",
        "  return x**p\n",
        "\n",
        "print(myfunc(5))\n",
        "print(myfunc(5, debug=True))\n",
        "print(myfunc(p=3, debug=True, x=5))\n",
        "print(myfunc(5, 3))\n",
        "print(myfunc(5, 3, True))\n",
        "print(myfunc(5, 3, False))"
      ],
      "execution_count": null,
      "outputs": []
    },
    {
      "cell_type": "markdown",
      "metadata": {
        "id": "tBHnBBaVWt0s"
      },
      "source": [
        "### Aspectos Avançados:\n",
        "Em Python, também podemos criar funções sem nome, usando a palavra-chave lambda:\n",
        "\n",
        "- nome_da_funcao  = lambda <parametro>: comandos"
      ]
    },
    {
      "cell_type": "code",
      "metadata": {
        "id": "WNXRTXmIWt0s"
      },
      "source": [
        "# Exemplo de uso de função sem nome - Lambda Function\n",
        "# f1 e f2 são equivalentes\n",
        "\n",
        "f1 = lambda x: x**2\n",
        "\n",
        "\n",
        "def f2(x):\n",
        " return x**2"
      ],
      "execution_count": null,
      "outputs": []
    },
    {
      "cell_type": "code",
      "metadata": {
        "id": "VZIqA7fJWt0u"
      },
      "source": [
        "f1(2), f2(2)"
      ],
      "execution_count": null,
      "outputs": []
    },
    {
      "cell_type": "markdown",
      "metadata": {
        "id": "HhGdphHsWt0v"
      },
      "source": [
        "### Nota:\n",
        "Esta técnica é útil, por exemplo, quando queremos passar uma única função como um argumento para outra Função.\n",
        "\n",
        "Considere a função map(f, s), que aplica a função f para todos os elementos da sequência s. "
      ]
    },
    {
      "cell_type": "code",
      "metadata": {
        "id": "46v_HTu3Wt0w"
      },
      "source": [
        "# Exemplo de uso da função map(),que retorna um objeto genérico\n",
        "def f(x):\n",
        "    return (x ** 2)\n",
        "lista2 = map(f, range (-3,4))\n",
        "list(lista2)"
      ],
      "execution_count": null,
      "outputs": []
    },
    {
      "cell_type": "code",
      "metadata": {
        "id": "mldCDACfWt01"
      },
      "source": [
        "# Exemplo de uso da função map() com função anônima - lambda\n",
        "lista3 = map(lambda x: x**2, range(-3,4))\n",
        "list(lista3)"
      ],
      "execution_count": null,
      "outputs": []
    },
    {
      "cell_type": "markdown",
      "metadata": {
        "id": "C-zOKft7Wt02"
      },
      "source": [
        "## Classes e Objetos em Python:\n",
        "\n",
        "- As classes são as principais características da programação orientada a objetos. \n",
        "- Uma classe é uma estrutura para representar um objeto e as operações que podem ser realizadas sobre ele. Assim, uma classe pode conter atributos (variáveis) e métodos (funções).\n",
        "- Uma classe é definida quase como uma função, mas usando a palavra-chave  \"classe\".\n",
        "- A definição da classe geralmente contém uma série de método de classe (uma função em uma classe).\n",
        "- Cada método de classe deve ter um argumento denominado de \"self\" como primeiro argumento. Isto é uma auto-referência ao objeto.\n",
        "- Alguns nomes de métodos de classe têm um significado especial, por exemplo:\n",
        "    - _init_: construtor da classe - O nome do método que é invocado quando o primeiro objeto é criado.\n",
        "    - _str_: Um método que é invocado quando uma representação de uma string da classe é necessária, como, por exemplo, quando deseja-se usar um print()."
      ]
    },
    {
      "cell_type": "code",
      "metadata": {
        "id": "NJW2pL1wWt02"
      },
      "source": [
        "# Criação da Classe Ponto\n",
        "class Ponto:  \n",
        " def __init__(self, x, y):\n",
        "  self.x = x\n",
        "  self.y = y\n",
        " \n",
        " def translacao(self, dx, dy):\n",
        "  self.x += dx\n",
        "  self.y += dy\n",
        "    \n",
        " def __str__(self):\n",
        "  return(\"O ponto está no posição [%f, %f]\" % (self.x, self.y))"
      ],
      "execution_count": null,
      "outputs": []
    },
    {
      "cell_type": "code",
      "metadata": {
        "id": "wKgwARmsWt09"
      },
      "source": [
        "# Criação de um objeto p1 da classe Ponto \n",
        "p1 = Ponto(0, 0) \n",
        "print(p1)"
      ],
      "execution_count": null,
      "outputs": []
    },
    {
      "cell_type": "code",
      "metadata": {
        "id": "XkZggTv3Wt0_",
        "outputId": "60373513-143d-440a-d1ad-d5dfdd31dcb0"
      },
      "source": [
        "p2 = Ponto(1, 1)\n",
        "p1.translacao(0.25, 1.5)\n",
        "print(p1)\n",
        "print(p2)\n",
        "print(p1.x, p1.y)\n",
        "print(p2.x, p2.y)"
      ],
      "execution_count": null,
      "outputs": [
        {
          "output_type": "stream",
          "text": [
            "O ponto está no posição [0.250000, 1.500000]\n",
            "O ponto está no posição [1.000000, 1.000000]\n",
            "0.25 1.5\n",
            "1 1\n"
          ],
          "name": "stdout"
        }
      ]
    },
    {
      "cell_type": "code",
      "metadata": {
        "id": "AxekF2BBWt1C"
      },
      "source": [
        "# Exercício - inclua os seguintes métodos na Classe Ponto\n",
        "# rotacao(angula_em_radiano), sem retorno\n",
        "# distancia(Ponto ponto1), retorna a distância do ponto dado (parâmetro) ao ponto\n",
        "\n"
      ],
      "execution_count": null,
      "outputs": []
    },
    {
      "cell_type": "markdown",
      "metadata": {
        "id": "Kle7uEbSWt1F"
      },
      "source": [
        "## Tipo de Dado Dicionário em Python\n",
        "\n",
        "- Dicionário é um tipo de coleção, como lista, porém poderem usar qualquer tipo imutavel de dados como indice.Isto é feito a partir de uma chave, que pode ser qualquer tipo imutável, para um valor, que pode ser qualquer objeto de dados do Python.\n",
        "- Uma maneira de criar um dicionario é comecando com um dicionário vazio e depois adiconar elementos. Um dicionário vazio é denotado assim {}:"
      ]
    },
    {
      "cell_type": "code",
      "metadata": {
        "id": "3SpojpuoWt1F"
      },
      "source": [
        "# Exemplo: dicionário de Portugues para Ingles\n",
        "\n",
        "por_Para_ing = {}    # início do dicionário\n",
        "por_Para_ing['um'] = 'one'\n",
        "por_Para_ing['dois'] = 'two'\n",
        "por_Para_ing"
      ],
      "execution_count": null,
      "outputs": []
    },
    {
      "cell_type": "code",
      "metadata": {
        "id": "4rTHX445Wt1N"
      },
      "source": [
        "por_Para_ing['um']"
      ],
      "execution_count": null,
      "outputs": []
    },
    {
      "cell_type": "code",
      "metadata": {
        "id": "oUcC9WirWt1R"
      },
      "source": [
        "por_Para_ing['três'] = 'three'\n",
        "por_Para_ing"
      ],
      "execution_count": null,
      "outputs": []
    },
    {
      "cell_type": "code",
      "metadata": {
        "id": "RGPo1rPBWt1S"
      },
      "source": [
        "# Exemplo: dicionário de Portugues para Ingles\n",
        "ing_Para_por = {'one': 'um', 'two': 'dois', 'three': 'três'}\n",
        "ing_Para_por"
      ],
      "execution_count": null,
      "outputs": []
    },
    {
      "cell_type": "code",
      "metadata": {
        "id": "_d7f34GsWt1W"
      },
      "source": [
        "# Comandos\n",
        "- del       Remove um par chave-valor de um dicionário\n",
        "- len       Retorna a quantidade de itens"
      ],
      "execution_count": null,
      "outputs": []
    },
    {
      "cell_type": "code",
      "metadata": {
        "id": "NjBn5V4FWt1Z"
      },
      "source": [
        "len(ing_Para_por)"
      ],
      "execution_count": null,
      "outputs": []
    },
    {
      "cell_type": "code",
      "metadata": {
        "id": "mAPoJ4oEWt1c"
      },
      "source": [
        "ing_Para_por"
      ],
      "execution_count": null,
      "outputs": []
    },
    {
      "cell_type": "code",
      "metadata": {
        "id": "TmCGMKPGWt1h"
      },
      "source": [
        "del(ing_Para_por['three'])\n",
        "ing_Para_por"
      ],
      "execution_count": null,
      "outputs": []
    },
    {
      "cell_type": "markdown",
      "metadata": {
        "id": "HfIAIH-vWt1k"
      },
      "source": [
        "### Lembrete:\n",
        "Dicionários possuem vários métodos nativos úteis.\n",
        "\n",
        "    - keys()  \t \tRetorna uma vista das chaves no dicionário\n",
        "    - values()  \tRetorna uma vista dos valores no dicionário\n",
        "    - items() \t  Retorna uma vista dos pares chave-valor no dicionário\n",
        "    - get(key) \t  Retorna o valor associado com a chave; ou None\n",
        "    - items()     Retorna os dois valores, na forma de uma lista de tuplas - cada tupla com um par chave-valor    "
      ]
    },
    {
      "cell_type": "code",
      "metadata": {
        "id": "cKhNJufYWt1k"
      },
      "source": [
        "por_Para_ing.keys()"
      ],
      "execution_count": null,
      "outputs": []
    },
    {
      "cell_type": "code",
      "metadata": {
        "id": "YV4uD45iWt1m"
      },
      "source": [
        "por_Para_ing.values()"
      ],
      "execution_count": null,
      "outputs": []
    },
    {
      "cell_type": "code",
      "metadata": {
        "id": "vU7D4L4SWt1p"
      },
      "source": [
        "por_Para_ing.get('um')"
      ],
      "execution_count": null,
      "outputs": []
    },
    {
      "cell_type": "code",
      "metadata": {
        "id": "4EAR5dc2Wt1u"
      },
      "source": [
        "# Exemplo de uso de dicionários\n",
        "inventario = {'abacaxis': 430, 'bananas': 312, 'laranjas': 525, 'peras': 217}"
      ],
      "execution_count": null,
      "outputs": []
    },
    {
      "cell_type": "code",
      "metadata": {
        "id": "sEOaoz94Wt1x"
      },
      "source": [
        "inventario"
      ],
      "execution_count": null,
      "outputs": []
    },
    {
      "cell_type": "code",
      "metadata": {
        "id": "bxd1l98-Wt12"
      },
      "source": [
        "inventario['bananas'] = 311"
      ],
      "execution_count": null,
      "outputs": []
    },
    {
      "cell_type": "code",
      "metadata": {
        "id": "gmq3Y9BEWt14"
      },
      "source": [
        "inventario"
      ],
      "execution_count": null,
      "outputs": []
    },
    {
      "cell_type": "code",
      "metadata": {
        "id": "dWsv8oWEWt18"
      },
      "source": [
        "# Exemplo de uso de Dicionário\n",
        "aluno = {\n",
        "    \"nome\": \"joao\",\n",
        "    \"matricula\": 2015200101,\n",
        "    \"idade\": 39,\n",
        "    \"habilidades\": ['python', 'java', 'c/c++']\n",
        "}"
      ],
      "execution_count": null,
      "outputs": []
    },
    {
      "cell_type": "code",
      "metadata": {
        "id": "m04bJ8P8Wt2B"
      },
      "source": [
        "print(aluno['nome'])\n",
        "print(aluno['idade'])\n",
        "print (aluno['habilidades'])"
      ],
      "execution_count": null,
      "outputs": []
    },
    {
      "cell_type": "markdown",
      "metadata": {
        "id": "rqhnVkC_Wt2K"
      },
      "source": [
        "## Criação de Módulo em Python\n",
        "\n",
        "- Um dos conceitos mais importantes na boa programação é reutilizar o código e evitar repetições.\n",
        "- A idéia é escrever funções e classes com um propósito e um escopo bem definidos e reutilizá-los em vez de repetir código similar em uma parte diferente de um programa (programação modular). O resultado é geralmente que a legibilidade e a manutenção de um programa são muito melhoradas. O que isso significa na prática é que nossos programas têm menos erros, são mais fáceis de estender e depurar / solucionar problemas.\n",
        "- O Python suporta programação modular em diferentes níveis. Funções e classes são exemplos de ferramentas para programação modular de baixo nível. Os módulos Python são uma construção de programação modular de nível superior, onde podemos coletar variáveis, funções e classes relacionadas em um módulo.\n",
        "- Um módulo python é definido em um arquivo python (com o ponto final do arquivo .py) e pode ser acessível a outros módulos e programas Python usando a instrução import."
      ]
    },
    {
      "cell_type": "code",
      "metadata": {
        "id": "rBhpXHYIWt2L"
      },
      "source": [
        ""
      ],
      "execution_count": null,
      "outputs": []
    }
  ]
}