{
  "nbformat": 4,
  "nbformat_minor": 0,
  "metadata": {
    "colab": {
      "name": "Trabalho.ipynb",
      "provenance": [],
      "toc_visible": true,
      "authorship_tag": "ABX9TyNoWQN8AJVZ9VEmzfEQWWog",
      "include_colab_link": true
    },
    "kernelspec": {
      "name": "python3",
      "display_name": "Python 3"
    },
    "language_info": {
      "name": "python"
    }
  },
  "cells": [
    {
      "cell_type": "markdown",
      "metadata": {
        "id": "view-in-github",
        "colab_type": "text"
      },
      "source": [
        "<a href=\"https://colab.research.google.com/github/arturgmrs/cenep/blob/main/Trabalho2.ipynb\" target=\"_parent\"><img src=\"https://colab.research.google.com/assets/colab-badge.svg\" alt=\"Open In Colab\"/></a>"
      ]
    },
    {
      "cell_type": "markdown",
      "metadata": {
        "id": "ygsUsY2SY3I1"
      },
      "source": [
        "# Trabalho Desenvolvimento de Sistemas & Implementação de Redes de Computadores\n",
        "\n",
        "1.   Para resolução desse Trabalho é preciso estudar os conteúdos no Google Class das respectivas turmas, realização de pesquisa dos temas e ter acompanhado as aulas síncronas\n",
        "2.   Será valorizado pesquisa de conteúdos, os mesmos devem ser referenciados\n",
        "3.   Os alunos devem entregar em um único arquivo em uma página disponível no GITHUB com nome completo de todos em uma cópia dessa atividade. A mesma será cadastrada no Google Class\n",
        "\n",
        "4.  Este Trabalho valerá 50% da nota do bimestre na respectiva disciplina. Esforcem-se.\n",
        "\n",
        "5. Será valorizado: o prazo de entrega, organização, conhecimento técnico e criatividade das soluções.\n",
        "\n",
        "O DESAFIO: O CENEP precisa da colaboração dos alunos para desenvolvimento de Desenvolvimento de Sistemas a serem utilizados na escola visando melhorias para desenvolvimento e implementação de Redes de Computadores da escola. Sabendo disso, desenvolva em grupo de até 4 alunos as soluções para as problemáticas abaixo. "
      ]
    },
    {
      "cell_type": "markdown",
      "metadata": {
        "id": "GCKNYMYMa1T1"
      },
      "source": [
        "# Questões Desenvolvimento de Sistemas"
      ]
    },
    {
      "cell_type": "markdown",
      "metadata": {
        "id": "z8TZIHkbawB1"
      },
      "source": [
        "1) Crie um programa de computador que pergunte o seu nome, data de nascimento e após informe o seu signo."
      ]
    },
    {
      "cell_type": "code",
      "metadata": {
        "id": "sQgbj3KnZpAV"
      },
      "source": [
        "#Desenvolva a solução"
      ],
      "execution_count": null,
      "outputs": []
    },
    {
      "cell_type": "markdown",
      "metadata": {
        "id": "BEj1HYNydgV7"
      },
      "source": [
        "2) Faça um programa de computador que cálcule o IMC a partir dos dados fornecidos pelo usuário e informe se ela estar em grupo de risco ou não para ser vacinado da covid-19.\n",
        "\n",
        "[IMC precisa ser acima de 40 para ser prioridade.](https://www.bbc.com/portuguese/geral-46311722)"
      ]
    },
    {
      "cell_type": "markdown",
      "metadata": {
        "id": "NRy7E8o4iZ66"
      },
      "source": [
        "#Dados do grupo: \n",
        "\n",
        "\n",
        "*   Turma:\n",
        "*   Turuno:\n",
        "\n",
        "1.   Nome do Componente\n",
        "2.   Nome do Componente\n",
        "3.   Nome do Componente\n",
        "4.   Nome do Componente\n",
        "\n",
        "\n"
      ]
    },
    {
      "cell_type": "code",
      "metadata": {
        "id": "D4q8BoGfdgep"
      },
      "source": [
        "#Desenvolva a solução"
      ],
      "execution_count": null,
      "outputs": []
    },
    {
      "cell_type": "markdown",
      "metadata": {
        "id": "LJRaFzGzeUyo"
      },
      "source": [
        "3) Faça um programa para um restaurante que venda comida no quilo. O preço da comida é: 1kg = R$ 52,00 e sobremesa 1kg = R$ 35,00. \n"
      ]
    },
    {
      "cell_type": "code",
      "metadata": {
        "id": "NFf4t-AHfjZy"
      },
      "source": [
        "# Desenvolva a solução"
      ],
      "execution_count": null,
      "outputs": []
    },
    {
      "cell_type": "markdown",
      "metadata": {
        "id": "z3g-LGdFgWrW"
      },
      "source": [
        "# Questões de Redes de Computadores\n",
        "\n"
      ]
    },
    {
      "cell_type": "markdown",
      "metadata": {
        "id": "ckZKp056gheC"
      },
      "source": [
        "1) Crie uma estrutura de pastas conforme a [lista da imagem](https://external-content.duckduckgo.com/iu/?u=https%3A%2F%2Fwww.clubedohardware.com.br%2Fuploads%2Fmonthly_2018_02%2F5a8ec67a50646_EstruturaPastas.thumb.jpg.1dd070320d20182a7215290804506138.jpg&f=1&nofb=1) utilizando o shell do linux."
      ]
    },
    {
      "cell_type": "code",
      "metadata": {
        "id": "GCWzweHBhP02"
      },
      "source": [
        "#Adicione o texto da sua solução após testar no IBM SHELL ou outra interface. SHELL."
      ],
      "execution_count": null,
      "outputs": []
    },
    {
      "cell_type": "markdown",
      "metadata": {
        "id": "dTjOFw0ghYvV"
      },
      "source": [
        "2) Um computador na escola não consegue acessar a internet, outro computador consegue acessar normalmente. Escreva uma sugestão de teste e solução de acorodo com as práticas das aulas para ser implementada. "
      ]
    },
    {
      "cell_type": "code",
      "metadata": {
        "id": "NpT36y9shuVo"
      },
      "source": [
        "#Adicione o texto da sua solução após testar no IBM SHELL ou outra interface. SHELL."
      ],
      "execution_count": null,
      "outputs": []
    },
    {
      "cell_type": "markdown",
      "metadata": {
        "id": "XIIwOAjlhvCr"
      },
      "source": [
        "3) Faça uma pesquisa sobre os protocolos que fazem parte do modelo de OSI e informe os protocolos de comunicação por camada com sua definição. "
      ]
    }
  ]
}